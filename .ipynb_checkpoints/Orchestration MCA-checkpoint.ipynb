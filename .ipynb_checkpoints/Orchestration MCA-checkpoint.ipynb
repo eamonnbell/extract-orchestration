{
 "cells": [
  {
   "cell_type": "markdown",
   "metadata": {},
   "source": [
    "# Extracting common orchestration strategies from symbolic music data \n",
    "\n",
    "Eamonn Bell, Columbia University `<epb2125@columbia.edu>`"
   ]
  },
  {
   "cell_type": "markdown",
   "metadata": {},
   "source": [
    "---"
   ]
  },
  {
   "cell_type": "code",
   "execution_count": 1,
   "metadata": {
    "collapsed": false
   },
   "outputs": [],
   "source": [
    "import pretty_midi\n",
    "from collections import Counter"
   ]
  },
  {
   "cell_type": "code",
   "execution_count": 52,
   "metadata": {
    "collapsed": false
   },
   "outputs": [],
   "source": [
    "d = pretty_midi.PrettyMIDI('beethoven8-1.mid')"
   ]
  },
  {
   "cell_type": "code",
   "execution_count": 53,
   "metadata": {
    "collapsed": false
   },
   "outputs": [],
   "source": [
    "instruments = d.instruments\n",
    "instrument_names = [pretty_midi.program_to_instrument_name(i.program) for i in instruments]\n",
    "\n",
    "onsets_by_instrument = [i.get_onsets() for i in instruments]"
   ]
  },
  {
   "cell_type": "code",
   "execution_count": 54,
   "metadata": {
    "collapsed": false
   },
   "outputs": [
    {
     "data": {
      "text/plain": [
       "['Flute',\n",
       " 'Oboe',\n",
       " 'Clarinet',\n",
       " 'Bassoon',\n",
       " 'French Horn',\n",
       " 'Trumpet',\n",
       " 'Timpani',\n",
       " 'String Ensemble 1',\n",
       " 'Pizzicato Strings']"
      ]
     },
     "execution_count": 54,
     "metadata": {},
     "output_type": "execute_result"
    }
   ],
   "source": [
    "instrument_names"
   ]
  },
  {
   "cell_type": "markdown",
   "metadata": {},
   "source": [
    "## Test if note on at beat time"
   ]
  },
  {
   "cell_type": "code",
   "execution_count": 55,
   "metadata": {
    "collapsed": true
   },
   "outputs": [],
   "source": [
    "def check_instrument_at_time(instrument, time):\n",
    "    for n in instrument.notes:\n",
    "        if n.start <= time <= n.end:\n",
    "            return True\n",
    "    \n",
    "    return False"
   ]
  },
  {
   "cell_type": "code",
   "execution_count": 56,
   "metadata": {
    "collapsed": true
   },
   "outputs": [],
   "source": [
    "beats = d.get_beats()"
   ]
  },
  {
   "cell_type": "code",
   "execution_count": 57,
   "metadata": {
    "collapsed": false
   },
   "outputs": [],
   "source": [
    "beat_vectors = []\n",
    "\n",
    "for beat in beats:\n",
    "    beat_vector = []\n",
    "    for i in instruments:\n",
    "        beat_vector.append(check_instrument_at_time(i, beat))\n",
    "    beat_vectors.append(tuple(beat_vector))\n",
    "        "
   ]
  },
  {
   "cell_type": "code",
   "execution_count": 58,
   "metadata": {
    "collapsed": false
   },
   "outputs": [],
   "source": [
    "# sanity checks\n",
    "\n",
    "assert len(beat_vectors) == len(beats)\n",
    "assert len(beat_vectors[0]) == len(instruments)"
   ]
  },
  {
   "cell_type": "code",
   "execution_count": 59,
   "metadata": {
    "collapsed": false
   },
   "outputs": [
    {
     "data": {
      "text/plain": [
       "Counter({0: 73,\n",
       "         1: 259,\n",
       "         2: 266,\n",
       "         3: 100,\n",
       "         4: 121,\n",
       "         5: 160,\n",
       "         6: 100,\n",
       "         7: 75,\n",
       "         8: 153,\n",
       "         9: 123})"
      ]
     },
     "execution_count": 59,
     "metadata": {},
     "output_type": "execute_result"
    }
   ],
   "source": [
    "weights = [sum(v) for v in beat_vectors]\n",
    "wt_counter = Counter(weights)\n",
    "wt_counter"
   ]
  },
  {
   "cell_type": "markdown",
   "metadata": {},
   "source": [
    "## Plotting"
   ]
  },
  {
   "cell_type": "code",
   "execution_count": 60,
   "metadata": {
    "collapsed": false
   },
   "outputs": [],
   "source": [
    "import matplotlib.pyplot as plt\n",
    "import numpy as np\n",
    "\n",
    "%matplotlib inline\n",
    "\n",
    "A = np.array(beat_vectors)"
   ]
  },
  {
   "cell_type": "code",
   "execution_count": 61,
   "metadata": {
    "collapsed": false
   },
   "outputs": [
    {
     "data": {
      "text/plain": [
       "<matplotlib.image.AxesImage at 0x111e90f10>"
      ]
     },
     "execution_count": 61,
     "metadata": {},
     "output_type": "execute_result"
    },
    {
     "data": {
      "image/png": "[encoded data removed]",
      "text/plain": [
       "<matplotlib.figure.Figure at 0x111e39810>"
      ]
     },
     "metadata": {},
     "output_type": "display_data"
    }
   ],
   "source": [
    "plt.imshow(A.T, cmap='Greys',  interpolation='nearest', aspect='auto')"
   ]
  },
  {
   "cell_type": "markdown",
   "metadata": {},
   "source": [
    "## State transition probabilities"
   ]
  },
  {
   "cell_type": "code",
   "execution_count": 62,
   "metadata": {
    "collapsed": false
   },
   "outputs": [],
   "source": [
    "import pykov\n",
    "import networkx\n",
    "\n",
    "def make_bv_readable(bv):\n",
    "    return ''.join(['x' if x else 'o' for x in bv])\n",
    "    \n",
    "readable_bvs = [make_bv_readable(bv) for bv in beat_vectors]\n",
    "p, P = pykov.maximum_likelihood_probabilities(readable_bvs,lag_time=1)"
   ]
  },
  {
   "cell_type": "code",
   "execution_count": 63,
   "metadata": {
    "collapsed": false
   },
   "outputs": [],
   "source": [
    "G = networkx.DiGraph()"
   ]
  },
  {
   "cell_type": "code",
   "execution_count": 64,
   "metadata": {
    "collapsed": false,
    "scrolled": true
   },
   "outputs": [],
   "source": [
    "bvs_counter = Counter(readable_bvs)\n",
    "\n",
    "for node, weight in bvs_counter.most_common():\n",
    "    G.add_node(node, weight=weight)"
   ]
  },
  {
   "cell_type": "code",
   "execution_count": 65,
   "metadata": {
    "collapsed": false,
    "scrolled": false
   },
   "outputs": [],
   "source": [
    "for tup, p_transition in P.items():\n",
    "    G.add_edge(*tup, p=p_transition)"
   ]
  },
  {
   "cell_type": "code",
   "execution_count": 66,
   "metadata": {
    "collapsed": false
   },
   "outputs": [
    {
     "data": {
      "text/plain": [
       "[('oooxoooox', {'weight': 12}),\n",
       " ('xxxxxoooo', {'weight': 19}),\n",
       " ('xxxxxooox', {'weight': 8}),\n",
       " ('ooooooxxx', {'weight': 20}),\n",
       " ('oxxxoooxo', {'weight': 4})]"
      ]
     },
     "execution_count": 66,
     "metadata": {},
     "output_type": "execute_result"
    }
   ],
   "source": [
    "G.nodes(data=True)[:5]"
   ]
  },
  {
   "cell_type": "code",
   "execution_count": 67,
   "metadata": {
    "collapsed": false
   },
   "outputs": [
    {
     "data": {
      "text/plain": [
       "[('oooxoooox', 'oxxxoooox', {'p': 0.08333333333333333}),\n",
       " ('oooxoooox', 'xxoxoooox', {'p': 0.6666666666666666}),\n",
       " ('oooxoooox', 'oooxoooox', {'p': 0.16666666666666666}),\n",
       " ('oooxoooox', 'oxoxoooox', {'p': 0.08333333333333333}),\n",
       " ('xxxxxoooo', 'xxxxxooxo', {'p': 0.05263157894736842})]"
      ]
     },
     "execution_count": 67,
     "metadata": {},
     "output_type": "execute_result"
    }
   ],
   "source": [
    "G.edges(data=True)[:5]"
   ]
  },
  {
   "cell_type": "code",
   "execution_count": 122,
   "metadata": {
    "collapsed": false
   },
   "outputs": [
    {
     "ename": "KeyError",
     "evalue": "'xxxxxooox'",
     "output_type": "error",
     "traceback": [
      "\u001b[0;31m---------------------------------------------------------------------------\u001b[0m",
      "\u001b[0;31mKeyError\u001b[0m                                  Traceback (most recent call last)",
      "\u001b[0;32m<ipython-input-122-6f3e1e4fca27>\u001b[0m in \u001b[0;36m<module>\u001b[0;34m()\u001b[0m\n\u001b[1;32m      1\u001b[0m \u001b[0mlabel_positions\u001b[0m \u001b[0;34m=\u001b[0m \u001b[0;34m[\u001b[0m\u001b[0;34m]\u001b[0m\u001b[0;34m\u001b[0m\u001b[0m\n\u001b[1;32m      2\u001b[0m \u001b[0;32mfor\u001b[0m \u001b[0mk\u001b[0m \u001b[0;32min\u001b[0m \u001b[0mG\u001b[0m\u001b[0;34m.\u001b[0m\u001b[0mnodes\u001b[0m\u001b[0;34m(\u001b[0m\u001b[0;34m)\u001b[0m\u001b[0;34m:\u001b[0m\u001b[0;34m\u001b[0m\u001b[0m\n\u001b[0;32m----> 3\u001b[0;31m     \u001b[0mlabel_positions\u001b[0m\u001b[0;34m.\u001b[0m\u001b[0mappend\u001b[0m\u001b[0;34m(\u001b[0m\u001b[0mnetworkx\u001b[0m\u001b[0;34m.\u001b[0m\u001b[0mlayout\u001b[0m\u001b[0;34m.\u001b[0m\u001b[0mcircular_layout\u001b[0m\u001b[0;34m(\u001b[0m\u001b[0mSG\u001b[0m\u001b[0;34m,\u001b[0m\u001b[0mscale\u001b[0m\u001b[0;34m=\u001b[0m\u001b[0;36m1\u001b[0m\u001b[0;34m)\u001b[0m\u001b[0;34m[\u001b[0m\u001b[0mk\u001b[0m\u001b[0;34m]\u001b[0m\u001b[0;34m)\u001b[0m\u001b[0;34m\u001b[0m\u001b[0m\n\u001b[0m",
      "\u001b[0;31mKeyError\u001b[0m: 'xxxxxooox'"
     ]
    }
   ],
   "source": []
  },
  {
   "cell_type": "code",
   "execution_count": 130,
   "metadata": {
    "collapsed": false
   },
   "outputs": [
    {
     "data": {
      "image/png": "[encoded data removed]",
      "text/plain": [
       "<matplotlib.figure.Figure at 0x112042990>"
      ]
     },
     "metadata": {},
     "output_type": "display_data"
    }
   ],
   "source": [
    "SG = G.subgraph( [n for n, attrdict in G.node.items() if attrdict['weight'] > 10 ] )\n",
    "\n",
    "SIZE_SCALE = 25\n",
    "\n",
    "networkx.draw_networkx(SG, \n",
    "                       pos=networkx.layout.circular_layout(SG),\n",
    "                       node_size=[n[1]['weight']*SIZE_SCALE for n in G.nodes(data=True)])\n",
    "_ = plt.axis('off')\n",
    "\n"
   ]
  },
  {
   "cell_type": "markdown",
   "metadata": {},
   "source": [
    "## Clustering"
   ]
  },
  {
   "cell_type": "markdown",
   "metadata": {},
   "source": [
    "TODO\n",
    "\n",
    "1. Pick a suitable similarity metric\n",
    "2. Cluster"
   ]
  },
  {
   "cell_type": "markdown",
   "metadata": {},
   "source": [
    "## Do PCA\n",
    "\n",
    "PCD is silly for observations with binary"
   ]
  },
  {
   "cell_type": "markdown",
   "metadata": {},
   "source": [
    "### Analysis"
   ]
  },
  {
   "cell_type": "code",
   "execution_count": 60,
   "metadata": {
    "collapsed": true
   },
   "outputs": [],
   "source": [
    "from sklearn import decomposition"
   ]
  },
  {
   "cell_type": "code",
   "execution_count": 61,
   "metadata": {
    "collapsed": false
   },
   "outputs": [
    {
     "data": {
      "text/plain": [
       "PCA(copy=True, n_components=None, whiten=False)"
      ]
     },
     "execution_count": 61,
     "metadata": {},
     "output_type": "execute_result"
    }
   ],
   "source": [
    "pca = decomposition.PCA()\n",
    "pca.fit(A)"
   ]
  },
  {
   "cell_type": "code",
   "execution_count": 62,
   "metadata": {
    "collapsed": false
   },
   "outputs": [
    {
     "data": {
      "text/plain": [
       "[<matplotlib.lines.Line2D at 0x11595cc90>]"
      ]
     },
     "execution_count": 62,
     "metadata": {},
     "output_type": "execute_result"
    },
    {
     "data": {
      "image/png": "[encoded data removed]",
      "text/plain": [
       "<matplotlib.figure.Figure at 0x1157796d0>"
      ]
     },
     "metadata": {},
     "output_type": "display_data"
    }
   ],
   "source": [
    "# Scree plot\n",
    "plt.plot(pca.explained_variance_)"
   ]
  },
  {
   "cell_type": "markdown",
   "metadata": {},
   "source": [
    "### Dimensionality reduction"
   ]
  },
  {
   "cell_type": "markdown",
   "metadata": {},
   "source": [
    "#### Project onto two dimensions"
   ]
  },
  {
   "cell_type": "code",
   "execution_count": 63,
   "metadata": {
    "collapsed": false
   },
   "outputs": [
    {
     "data": {
      "text/plain": [
       "(1430, 2)"
      ]
     },
     "execution_count": 63,
     "metadata": {},
     "output_type": "execute_result"
    }
   ],
   "source": [
    "pca.n_components = 2\n",
    "A_reduced = pca.fit_transform(A)\n",
    "A_reduced.shape"
   ]
  },
  {
   "cell_type": "code",
   "execution_count": 64,
   "metadata": {
    "collapsed": false
   },
   "outputs": [
    {
     "data": {
      "text/plain": [
       "<matplotlib.collections.PathCollection at 0x115a831d0>"
      ]
     },
     "execution_count": 64,
     "metadata": {},
     "output_type": "execute_result"
    },
    {
     "data": {
      "image/png": "[encoded data removed]",
      "text/plain": [
       "<matplotlib.figure.Figure at 0x11599d250>"
      ]
     },
     "metadata": {},
     "output_type": "display_data"
    }
   ],
   "source": [
    "plt.scatter(*zip(*A_reduced))"
   ]
  },
  {
   "cell_type": "code",
   "execution_count": 65,
   "metadata": {
    "collapsed": true
   },
   "outputs": [],
   "source": [
    "def interpret_components(components_array):\n",
    "    for index, component in enumerate(components_array):\n",
    "        print(\"{} component\".format(index))\n",
    "        for index, value in enumerate(component):\n",
    "            print(\"\\t{} {}\".format(instrument_names[index], value))"
   ]
  },
  {
   "cell_type": "code",
   "execution_count": 66,
   "metadata": {
    "collapsed": false
   },
   "outputs": [
    {
     "name": "stdout",
     "output_type": "stream",
     "text": [
      "0 component\n",
      "\tFlute 0.416798367785\n",
      "\tOboe 0.424936163515\n",
      "\tClarinet 0.410447814872\n",
      "\tBassoon 0.410708229444\n",
      "\tFrench Horn 0.39455163167\n",
      "\tTrumpet 0.302523174307\n",
      "\tTimpani 0.210518833369\n",
      "\tString Ensemble 1 0.130363885643\n",
      "\tPizzicato Strings -0.00745225827319\n",
      "1 component\n",
      "\tFlute -0.249889674279\n",
      "\tOboe -0.277045895689\n",
      "\tClarinet 0.0642909312316\n",
      "\tBassoon -0.26674798976\n",
      "\tFrench Horn 0.0655041337505\n",
      "\tTrumpet 0.325310794064\n",
      "\tTimpani 0.423901627273\n",
      "\tString Ensemble 1 0.696306982323\n",
      "\tPizzicato Strings -0.104206530417\n"
     ]
    }
   ],
   "source": [
    "interpret_components(pca.components_)"
   ]
  },
  {
   "cell_type": "markdown",
   "metadata": {},
   "source": [
    "#### Project onto three dimensions"
   ]
  },
  {
   "cell_type": "code",
   "execution_count": 67,
   "metadata": {
    "collapsed": false
   },
   "outputs": [
    {
     "data": {
      "text/plain": [
       "(1430, 3)"
      ]
     },
     "execution_count": 67,
     "metadata": {},
     "output_type": "execute_result"
    }
   ],
   "source": [
    "pca.n_components = 3\n",
    "A_reduced = pca.fit_transform(A)\n",
    "A_reduced.shape"
   ]
  },
  {
   "cell_type": "code",
   "execution_count": 68,
   "metadata": {
    "collapsed": false
   },
   "outputs": [
    {
     "data": {
      "text/plain": [
       "<mpl_toolkits.mplot3d.art3d.Patch3DCollection at 0x115b17c90>"
      ]
     },
     "execution_count": 68,
     "metadata": {},
     "output_type": "execute_result"
    },
    {
     "data": {
      "image/png": "[encoded data removed]",
      "text/plain": [
       "<matplotlib.figure.Figure at 0x11584bd10>"
      ]
     },
     "metadata": {},
     "output_type": "display_data"
    }
   ],
   "source": [
    "from mpl_toolkits.mplot3d import Axes3D\n",
    "\n",
    "fig = plt.figure()\n",
    "ax = fig.add_subplot(111, projection='3d')\n",
    "ax.scatter(*zip(*A_reduced))"
   ]
  },
  {
   "cell_type": "code",
   "execution_count": 51,
   "metadata": {
    "collapsed": false
   },
   "outputs": [
    {
     "name": "stdout",
     "output_type": "stream",
     "text": [
      "0 component\n",
      "\tFlute 0.416798367785\n",
      "\tOboe 0.424936163515\n",
      "\tClarinet 0.410447814872\n",
      "\tBassoon 0.410708229444\n",
      "\tFrench Horn 0.39455163167\n",
      "\tTrumpet 0.302523174307\n",
      "\tTimpani 0.210518833369\n",
      "\tString Ensemble 1 0.130363885643\n",
      "\tPizzicato Strings -0.00745225827319\n",
      "1 component\n",
      "\tFlute -0.249889674279\n",
      "\tOboe -0.277045895689\n",
      "\tClarinet 0.0642909312316\n",
      "\tBassoon -0.26674798976\n",
      "\tFrench Horn 0.0655041337505\n",
      "\tTrumpet 0.325310794064\n",
      "\tTimpani 0.423901627273\n",
      "\tString Ensemble 1 0.696306982323\n",
      "\tPizzicato Strings -0.104206530417\n",
      "2 component\n",
      "\tFlute 0.046270358119\n",
      "\tOboe -0.0141516149105\n",
      "\tClarinet -0.147622354118\n",
      "\tBassoon 0.000717987285205\n",
      "\tFrench Horn -0.0202403771647\n",
      "\tTrumpet 0.119448850943\n",
      "\tTimpani 0.0831551709546\n",
      "\tString Ensemble 1 0.0662127469013\n",
      "\tPizzicato Strings 0.974622644743\n"
     ]
    }
   ],
   "source": [
    "interpret_components(pca.components_)"
   ]
  }
 ],
 "metadata": {
  "kernelspec": {
   "display_name": "Python 2",
   "language": "python",
   "name": "python2"
  },
  "language_info": {
   "codemirror_mode": {
    "name": "ipython",
    "version": 2
   },
   "file_extension": ".py",
   "mimetype": "text/x-python",
   "name": "python",
   "nbconvert_exporter": "python",
   "pygments_lexer": "ipython2",
   "version": "2.7.10"
  }
 },
 "nbformat": 4,
 "nbformat_minor": 0
}
